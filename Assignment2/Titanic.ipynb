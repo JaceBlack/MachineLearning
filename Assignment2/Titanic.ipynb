{
 "cells": [
  {
   "cell_type": "code",
   "execution_count": 1,
   "metadata": {},
   "outputs": [],
   "source": [
    "# To support both python 2 and python 3\n",
    "from __future__ import division, print_function, unicode_literals\n",
    "\n",
    "# Common imports\n",
    "import numpy as np\n",
    "import os\n",
    "\n",
    "\n",
    "# to make this notebook's output stable across runs\n",
    "np.random.seed(42)\n",
    "\n",
    "# To plot pretty figures\n",
    "%matplotlib inline\n",
    "import matplotlib\n",
    "import matplotlib.pyplot as plt\n",
    "\n",
    "\n",
    "import pandas as pd\n",
    "from sklearn import ensemble, model_selection"
   ]
  },
  {
   "cell_type": "code",
   "execution_count": 2,
   "metadata": {},
   "outputs": [],
   "source": [
    "def clean_data(data):\n",
    "    data[\"Age\"] = data[\"Age\"].fillna(data[\"Age\"].dropna().median())\n",
    "    data[\"Fare\"] = data[\"Fare\"].fillna(data[\"Fare\"].dropna().median())\n",
    "    \n",
    "    data.loc [data[\"Sex\"] == \"female\", \"Sex\"] = 1\n",
    "    data.loc [data[\"Sex\"] == \"male\", \"Sex\"] = 0\n",
    "    \n",
    "    data.drop(\"Embarked\", axis = 1, inplace = True)"
   ]
  },
  {
   "cell_type": "code",
   "execution_count": 3,
   "metadata": {},
   "outputs": [],
   "source": [
    "df_train = pd.read_csv('Desktop/titanic/train.csv')\n",
    "df_test = pd.read_csv('Desktop/titanic/test.csv')"
   ]
  },
  {
   "cell_type": "code",
   "execution_count": 4,
   "metadata": {},
   "outputs": [],
   "source": [
    "clean_data(df_train)\n",
    "clean_data(df_test)"
   ]
  },
  {
   "cell_type": "code",
   "execution_count": 10,
   "metadata": {},
   "outputs": [],
   "source": [
    "target = df_train[\"Survived\"].values\n",
    "features_forest = df_train[[\"Sex\", \"Age\", \"Pclass\", \"Fare\", \"SibSp\", \"Parch\"]].values"
   ]
  },
  {
   "cell_type": "code",
   "execution_count": 11,
   "metadata": {},
   "outputs": [
    {
     "name": "stdout",
     "output_type": "stream",
     "text": [
      "[0.44709541 0.13409704 0.1399686  0.1879372  0.0544267  0.03647505]\n",
      "0.8664421997755332\n",
      "[0.77777778 0.81111111 0.76404494 0.8988764  0.88764045 0.82022472\n",
      " 0.82022472 0.78651685 0.86516854 0.84090909]\n",
      "0.8272494609011464\n",
      "\n",
      "Write new predicition\n"
     ]
    }
   ],
   "source": [
    "forest = ensemble.RandomForestClassifier(\n",
    "    max_depth = 6,\n",
    "    min_samples_split = 4,\n",
    "    n_estimators = 1000,\n",
    "    random_state = 42,\n",
    "    n_jobs = -1\n",
    ")\n",
    "forest = forest.fit(features_forest, target)\n",
    "\n",
    "print(forest.feature_importances_)\n",
    "print(forest.score(features_forest, target))\n",
    "\n",
    "\n",
    "scores = model_selection.cross_val_score(forest, features_forest, target, scoring='accuracy', cv=10)\n",
    "print (scores)\n",
    "print (scores.mean())\n",
    "\n",
    "print (\"\\nWrite new predicition\")\n",
    "\n",
    "test_features_forest = df_test[[\"Sex\", \"Age\", \"Pclass\", \"Fare\", \"SibSp\", \"Parch\"]].values\n",
    "prediction_forest = forest.predict(test_features_forest)\n",
    "write_prediction = (prediction_forest, \"results/results.csv\")"
   ]
  },
  {
   "cell_type": "code",
   "execution_count": null,
   "metadata": {},
   "outputs": [],
   "source": []
  },
  {
   "cell_type": "code",
   "execution_count": null,
   "metadata": {},
   "outputs": [],
   "source": []
  }
 ],
 "metadata": {
  "kernelspec": {
   "display_name": "Python 3",
   "language": "python",
   "name": "python3"
  },
  "language_info": {
   "codemirror_mode": {
    "name": "ipython",
    "version": 3
   },
   "file_extension": ".py",
   "mimetype": "text/x-python",
   "name": "python",
   "nbconvert_exporter": "python",
   "pygments_lexer": "ipython3",
   "version": "3.7.1"
  }
 },
 "nbformat": 4,
 "nbformat_minor": 2
}
